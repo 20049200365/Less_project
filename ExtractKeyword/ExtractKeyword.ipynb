{
 "cells": [
  {
   "cell_type": "code",
   "execution_count": 1,
   "metadata": {},
   "outputs": [],
   "source": [
    "import pandas as pd\n",
    "import numpy as np"
   ]
  },
  {
   "cell_type": "code",
   "execution_count": null,
   "metadata": {},
   "outputs": [],
   "source": [
    "test=pd.read_csv(r'...path\\emails.csv')\n",
    "test.head"
   ]
  },
  {
   "cell_type": "code",
   "execution_count": 7,
   "metadata": {},
   "outputs": [],
   "source": [
    "import nltk\n",
    "from nltk import word_tokenize\n",
    "from nltk.stem import PorterStemmer\n",
    "from nltk.stem import WordNetLemmatizer\n",
    "\n",
    "def data_filter(x):\n",
    "    ret=[]\n",
    "    for i in x:\n",
    "        if (i.isalpha() and len(i)<=20 and len(i)>=3):\n",
    "            ret.append(i)\n",
    "    return ret\n",
    "\n",
    "\n",
    "datasize=len(test)\n",
    "f=open('stopword.txt', encoding='gbk')\n",
    "stop_words=[]\n",
    "for line in f:\n",
    "    stop_words.append(line.strip())\n",
    "stop_words=stop_words+['pallen','phillip']\n",
    "\n",
    "\n",
    "ps = PorterStemmer()\n",
    "isfirst=True\n",
    "datasize=10\n",
    "for i in range(0,datasize):\n",
    "    str_temp=str(test.loc[i,'message'])\n",
    "    num=str_temp.find('X-FileName:') \n",
    "    str_temp=str_temp[num:len(str_temp)]\n",
    "\n",
    "    str_temp_word=word_tokenize(str_temp) \n",
    "\n",
    "    str_temp_main=[] \n",
    "    for j in str_temp_word:\n",
    "        str_temp_main.append(ps.stem(j))\n",
    "\n",
    "    str_temp_main=data_filter(str_temp_main) \n",
    "\n",
    "    str_temp_nopuc=[]\n",
    "    for j in str_temp_main:\n",
    "        if j not in stop_words:\n",
    "            str_temp_nopuc.append(j)\n",
    "\n",
    "    str_last=[]\n",
    "    str_last.append(str_temp_nopuc)\n",
    "    last = pd.DataFrame(str_last)\n",
    "\n",
    "    if isfirst:\n",
    "        isfirst=False\n",
    "        last.to_csv('Result.csv',index=False,  header=False)\n",
    "    else:\n",
    "        last.to_csv('Result.csv',mode='a+',index=False,  header=False)\n"
   ]
  }
 ],
 "metadata": {
  "kernelspec": {
   "display_name": "Python 3",
   "language": "python",
   "name": "python3"
  },
  "language_info": {
   "codemirror_mode": {
    "name": "ipython",
    "version": 3
   },
   "file_extension": ".py",
   "mimetype": "text/x-python",
   "name": "python",
   "nbconvert_exporter": "python",
   "pygments_lexer": "ipython3",
   "version": "3.10.5"
  },
  "orig_nbformat": 4,
  "vscode": {
   "interpreter": {
    "hash": "3ca92c03c4f591d169a1c3268e4eb0433107893b9664d464c29863ee8599a0c6"
   }
  }
 },
 "nbformat": 4,
 "nbformat_minor": 2
}
